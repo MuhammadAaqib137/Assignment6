{
 "cells": [
  {
   "cell_type": "markdown",
   "metadata": {
    "collapsed": true
   },
   "source": [
    "# Q#1: Define Object  Oriented Programming?"
   ]
  },
  {
   "cell_type": "raw",
   "metadata": {},
   "source": [
    "A: To model human interaction with real world phenomeno and their behaviour as classes and method.\n"
   ]
  },
  {
   "cell_type": "markdown",
   "metadata": {},
   "source": [
    "# 2#Benefits of OOP:"
   ]
  },
  {
   "cell_type": "raw",
   "metadata": {},
   "source": [
    "A: 1.programming gets easy and efficient \n",
    "   2.The class is sharable , so code be reused \n",
    "   3.The productivity of programer increases \n",
    "   4.Data is safe and secure with data abstraction\n",
    "    "
   ]
  },
  {
   "cell_type": "markdown",
   "metadata": {},
   "source": [
    "# 3#Diffrentiate between method and function ?"
   ]
  },
  {
   "cell_type": "raw",
   "metadata": {},
   "source": [
    "A :Method is define within a class where as function is define without a class."
   ]
  },
  {
   "cell_type": "markdown",
   "metadata": {},
   "source": [
    "# 4#define class , object , attribute and Behaviour?\n"
   ]
  },
  {
   "cell_type": "raw",
   "metadata": {},
   "source": [
    "A : Class:\n",
    "        It is a templete or bluprint about the capability of what an object can do.\n",
    "    Object:\n",
    "        It is an Instantiation of a class. when a class is defined , only the description \n",
    "        for the object is defined. Therefore no memory or storage allocated\n",
    "    Attribute :\n",
    "        It can be defined as the properties of an object .\n",
    "        example : if an object is car then color , model etc are its attributes\n",
    "    Behaviour:\n",
    "        It can be defined as the funcitonality of an object , whatever it can do. \n",
    "        example : If an object is car then its behaviour is that it can move \n",
    "        "
   ]
  },
  {
   "cell_type": "markdown",
   "metadata": {},
   "source": [
    "# Question # 5"
   ]
  },
  {
   "cell_type": "code",
   "execution_count": 20,
   "metadata": {},
   "outputs": [
    {
     "name": "stdout",
     "output_type": "stream",
     "text": [
      "2011 \n",
      " blue \n",
      " corolla \n",
      " 500000 \n",
      " 2014\n",
      "2011 \n",
      "blue\n",
      "corolla\n",
      " 500000 \n",
      "2014\n",
      "2011 \n",
      "blue\n",
      "corolla\n",
      " 500000 \n",
      "2014\n",
      "2011 \n",
      "blue\n",
      "corolla\n",
      " 500000 \n",
      "2014\n",
      "2011 \n",
      "blue\n",
      "corolla\n",
      " 500000 \n",
      "2014\n"
     ]
    }
   ],
   "source": [
    "class Car:\n",
    "    def __init__(self, model ,color ,name , price, year):\n",
    "        self.model=model\n",
    "        self.color=color\n",
    "        self.name= name\n",
    "        self.price= price\n",
    "        self.year=year\n",
    "    def Year(self,N_year):\n",
    "        self.year=N_year\n",
    "    def Model(self,N_model):\n",
    "        self.model=N_model\n",
    "\n",
    "            \n",
    "c1=Car(2011,'blue','corolla',500000,'2014')\n",
    "print(c1.model,\"\\n\",c1.color,\"\\n\",c1.name,\"\\n\",c1.price,\"\\n\",c1.year)\n",
    "c1.Year('2012')\n",
    "c1.Model(\"2019\")\n",
    "c2=Car(2011,'blue','corolla',500000,'2014')\n",
    "print(c2.model,\"\\n\"+c2.color+\"\\n\"+c2.name+\"\\n\",c2.price,\"\\n\"+c2.year)\n",
    "c3=Car(2011,'blue','corolla',500000,'2014')\n",
    "print(c3.model,\"\\n\"+c3.color+\"\\n\"+c3.name+\"\\n\",c3.price,\"\\n\"+c3.year)\n",
    "c4=Car(2011,'blue','corolla',500000,'2014')\n",
    "print(c4.model,\"\\n\"+c4.color+\"\\n\"+c4.name+\"\\n\",c4.price,\"\\n\"+c4.year)\n",
    "c5=Car(2011,'blue','corolla',500000,'2014')\n",
    "print(c5.model,\"\\n\"+c5.color+\"\\n\"+c5.name+\"\\n\",c5.price,\"\\n\"+c5.year)\n",
    "\n"
   ]
  },
  {
   "cell_type": "code",
   "execution_count": null,
   "metadata": {
    "collapsed": true
   },
   "outputs": [],
   "source": []
  },
  {
   "cell_type": "code",
   "execution_count": null,
   "metadata": {
    "collapsed": true
   },
   "outputs": [],
   "source": []
  }
 ],
 "metadata": {
  "kernelspec": {
   "display_name": "Python 3",
   "language": "python",
   "name": "python3"
  },
  "language_info": {
   "codemirror_mode": {
    "name": "ipython",
    "version": 3
   },
   "file_extension": ".py",
   "mimetype": "text/x-python",
   "name": "python",
   "nbconvert_exporter": "python",
   "pygments_lexer": "ipython3",
   "version": "3.6.3"
  }
 },
 "nbformat": 4,
 "nbformat_minor": 2
}
